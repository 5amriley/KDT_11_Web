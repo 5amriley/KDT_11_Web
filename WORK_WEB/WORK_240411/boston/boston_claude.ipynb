{
 "cells": [
  {
   "cell_type": "markdown",
   "metadata": {},
   "source": [
    "### [Pytorch 기반 회귀 모델 구현]\n",
    "- Layer : Full-Connected Layer (linear)\n",
    "- 손실함수 : MSELoss, MAELoss, ..."
   ]
  },
  {
   "cell_type": "code",
   "execution_count": 1,
   "metadata": {},
   "outputs": [],
   "source": [
    "import pandas as pd\n",
    "\n",
    "filename = '../../data/BostonHousing.csv'\n",
    "\n",
    "bostonDF = pd.read_csv(filename, encoding='utf-8')\n",
    "\n",
    "featureDF = bostonDF[bostonDF.columns[:-1]]\n",
    "targetSR = bostonDF[bostonDF.columns[-1]]"
   ]
  },
  {
   "cell_type": "code",
   "execution_count": 2,
   "metadata": {},
   "outputs": [
    {
     "name": "stdout",
     "output_type": "stream",
     "text": [
      "(455, 13) (455,) (51, 13) (51,)\n"
     ]
    }
   ],
   "source": [
    "from sklearn.model_selection import train_test_split\n",
    "\n",
    "### 훈련용, 테스트용 데이터 분할\n",
    "x_train, x_test, y_train, y_test = train_test_split(featureDF, targetSR, test_size=0.1, random_state=42)\n",
    "\n",
    "print(x_train.shape, y_train.shape, x_test.shape, y_test.shape)"
   ]
  },
  {
   "cell_type": "code",
   "execution_count": 3,
   "metadata": {},
   "outputs": [],
   "source": [
    "import torch\n",
    "from torch.utils.data import TensorDataset\n",
    "\n",
    "### pytorch Dataset 및 DataLoader 생성\n",
    "trainDS = TensorDataset(torch.tensor(x_train.values, dtype=torch.float32),\n",
    "                        torch.tensor(y_train.values, dtype=torch.float32))\n",
    "testDS = TensorDataset(torch.tensor(x_test.values, dtype=torch.float32),\n",
    "                       torch.tensor(y_test.values, dtype=torch.float32))"
   ]
  },
  {
   "cell_type": "code",
   "execution_count": 4,
   "metadata": {},
   "outputs": [],
   "source": [
    "from torch.utils.data import DataLoader\n",
    "\n",
    "n_features = featureDF.shape[1]\n",
    "batch_size = 32\n",
    "trainDL = DataLoader(trainDS, batch_size=batch_size, shuffle=True)\n",
    "testDL = DataLoader(testDS, batch_size=batch_size, shuffle=False)"
   ]
  },
  {
   "cell_type": "code",
   "execution_count": 5,
   "metadata": {},
   "outputs": [],
   "source": [
    "import torch.nn as nn\n",
    "\n",
    "# 모델 정의\n",
    "class BostonHousingRegressor(nn.Module):\n",
    "    def __init__(self):\n",
    "        super().__init__()\n",
    "        self.fc1 = nn.Linear(n_features, 64)\n",
    "        self.fc2 = nn.Linear(64, 32)\n",
    "        self.fc3 = nn.Linear(32, 1)\n",
    "        self.relu = nn.ReLU()\n",
    "\n",
    "    def forward(self, x):\n",
    "        x = self.fc1(x)\n",
    "        x = self.relu(x)\n",
    "        x = self.fc2(x)\n",
    "        x = self.relu(x)\n",
    "        x = self.fc3(x)\n",
    "        return x"
   ]
  },
  {
   "cell_type": "code",
   "execution_count": 6,
   "metadata": {},
   "outputs": [],
   "source": [
    "import torch.optim as optim\n",
    "\n",
    "# 모델, 손실 함수, 옵티마이저 생성\n",
    "model = BostonHousingRegressor()\n",
    "\n",
    "# model = nn.Sequential(\n",
    "#     nn.Linear(13, 100),\n",
    "#     nn.ReLU(),\n",
    "#     nn.Linear(100, 50),\n",
    "#     nn.ReLU(),\n",
    "#     nn.Linear(50, 1)\n",
    "# )\n",
    "\n",
    "criterion = nn.MSELoss()\n",
    "optimizer = optim.Adam(model.parameters(), lr=0.001)"
   ]
  },
  {
   "cell_type": "code",
   "execution_count": 7,
   "metadata": {},
   "outputs": [
    {
     "name": "stdout",
     "output_type": "stream",
     "text": [
      "torch.Size([32, 13]) torch.Size([32])\n",
      "torch.Size([32, 13]) torch.Size([32])\n",
      "torch.Size([32, 13]) torch.Size([32])\n",
      "torch.Size([32, 13]) torch.Size([32])\n",
      "torch.Size([32, 13]) torch.Size([32])\n",
      "torch.Size([32, 13]) torch.Size([32])\n",
      "torch.Size([32, 13]) torch.Size([32])\n",
      "torch.Size([32, 13]) torch.Size([32])\n",
      "torch.Size([32, 13]) torch.Size([32])\n",
      "torch.Size([32, 13]) torch.Size([32])\n",
      "torch.Size([32, 13]) torch.Size([32])\n",
      "torch.Size([32, 13]) torch.Size([32])\n",
      "torch.Size([32, 13]) torch.Size([32])\n",
      "torch.Size([32, 13]) torch.Size([32])\n",
      "torch.Size([7, 13]) torch.Size([7])\n"
     ]
    }
   ],
   "source": [
    "for feature, target in trainDL:\n",
    "    print(feature.shape, target.shape)"
   ]
  },
  {
   "cell_type": "code",
   "execution_count": 10,
   "metadata": {},
   "outputs": [
    {
     "name": "stdout",
     "output_type": "stream",
     "text": [
      "Epoch [10/1000], Loss: 51.9879\n",
      "Epoch [20/1000], Loss: 41.8255\n",
      "Epoch [30/1000], Loss: 33.8365\n",
      "Epoch [40/1000], Loss: 32.1901\n",
      "Epoch [50/1000], Loss: 26.3588\n",
      "Epoch [60/1000], Loss: 24.6051\n",
      "Epoch [70/1000], Loss: 21.5961\n",
      "Epoch [80/1000], Loss: 19.8463\n",
      "Epoch [90/1000], Loss: 26.3711\n",
      "Epoch [100/1000], Loss: 18.1051\n",
      "Epoch [110/1000], Loss: 21.4572\n",
      "Epoch [120/1000], Loss: 19.0655\n",
      "Epoch [130/1000], Loss: 18.3485\n",
      "Epoch [140/1000], Loss: 15.9760\n",
      "Epoch [150/1000], Loss: 15.8149\n",
      "Epoch [160/1000], Loss: 16.8325\n",
      "Epoch [170/1000], Loss: 19.6863\n",
      "Epoch [180/1000], Loss: 14.4887\n",
      "Epoch [190/1000], Loss: 14.2781\n",
      "Epoch [200/1000], Loss: 14.2443\n",
      "Epoch [210/1000], Loss: 14.5268\n",
      "Epoch [220/1000], Loss: 15.8389\n",
      "Epoch [230/1000], Loss: 13.9681\n",
      "Epoch [240/1000], Loss: 14.9325\n",
      "Epoch [250/1000], Loss: 15.8545\n",
      "Epoch [260/1000], Loss: 12.7605\n",
      "Epoch [270/1000], Loss: 13.9374\n",
      "Epoch [280/1000], Loss: 12.7172\n",
      "Epoch [290/1000], Loss: 14.6133\n",
      "Epoch [300/1000], Loss: 14.3789\n",
      "Epoch [310/1000], Loss: 14.5132\n",
      "Epoch [320/1000], Loss: 13.1263\n",
      "Epoch [330/1000], Loss: 15.0989\n",
      "Epoch [340/1000], Loss: 12.0104\n",
      "Epoch [350/1000], Loss: 11.8181\n",
      "Epoch [360/1000], Loss: 20.9435\n",
      "Epoch [370/1000], Loss: 13.8119\n",
      "Epoch [380/1000], Loss: 13.9844\n",
      "Epoch [390/1000], Loss: 11.5301\n",
      "Epoch [400/1000], Loss: 10.8048\n",
      "Epoch [410/1000], Loss: 10.7473\n",
      "Epoch [420/1000], Loss: 12.5530\n",
      "Epoch [430/1000], Loss: 10.9041\n",
      "Epoch [440/1000], Loss: 11.8927\n",
      "Epoch [450/1000], Loss: 11.1646\n",
      "Epoch [460/1000], Loss: 10.1549\n",
      "Epoch [470/1000], Loss: 10.8787\n",
      "Epoch [480/1000], Loss: 9.9971\n",
      "Epoch [490/1000], Loss: 10.6857\n",
      "Epoch [500/1000], Loss: 10.5772\n",
      "Epoch [510/1000], Loss: 10.0768\n",
      "Epoch [520/1000], Loss: 10.8833\n",
      "Epoch [530/1000], Loss: 11.6234\n",
      "Epoch [540/1000], Loss: 10.1383\n",
      "Epoch [550/1000], Loss: 10.0627\n",
      "Epoch [560/1000], Loss: 9.3829\n",
      "Epoch [570/1000], Loss: 10.7691\n",
      "Epoch [580/1000], Loss: 9.0387\n",
      "Epoch [590/1000], Loss: 9.9635\n",
      "Epoch [600/1000], Loss: 8.5600\n",
      "Epoch [610/1000], Loss: 8.2625\n",
      "Epoch [620/1000], Loss: 11.6744\n",
      "Epoch [630/1000], Loss: 9.6317\n",
      "Epoch [640/1000], Loss: 8.8990\n",
      "Epoch [650/1000], Loss: 9.6646\n",
      "Epoch [660/1000], Loss: 7.7696\n",
      "Epoch [670/1000], Loss: 7.8824\n",
      "Epoch [680/1000], Loss: 7.7738\n",
      "Epoch [690/1000], Loss: 9.0079\n",
      "Epoch [700/1000], Loss: 9.3026\n",
      "Epoch [710/1000], Loss: 7.6429\n",
      "Epoch [720/1000], Loss: 8.7787\n",
      "Epoch [730/1000], Loss: 7.8149\n",
      "Epoch [740/1000], Loss: 7.3980\n",
      "Epoch [750/1000], Loss: 8.9053\n",
      "Epoch [760/1000], Loss: 8.6385\n",
      "Epoch [770/1000], Loss: 8.8830\n",
      "Epoch [780/1000], Loss: 8.2198\n",
      "Epoch [790/1000], Loss: 7.9164\n",
      "Epoch [800/1000], Loss: 9.5809\n",
      "Epoch [810/1000], Loss: 7.1646\n",
      "Epoch [820/1000], Loss: 8.4128\n",
      "Epoch [830/1000], Loss: 10.4223\n",
      "Epoch [840/1000], Loss: 7.8538\n",
      "Epoch [850/1000], Loss: 8.0296\n",
      "Epoch [860/1000], Loss: 6.6810\n",
      "Epoch [870/1000], Loss: 7.8850\n",
      "Epoch [880/1000], Loss: 9.2468\n",
      "Epoch [890/1000], Loss: 7.5156\n",
      "Epoch [900/1000], Loss: 8.6724\n",
      "Epoch [910/1000], Loss: 6.9925\n",
      "Epoch [920/1000], Loss: 6.1031\n",
      "Epoch [930/1000], Loss: 6.4057\n",
      "Epoch [940/1000], Loss: 5.6392\n",
      "Epoch [950/1000], Loss: 5.6193\n",
      "Epoch [960/1000], Loss: 6.0407\n",
      "Epoch [970/1000], Loss: 6.1536\n",
      "Epoch [980/1000], Loss: 7.9724\n",
      "Epoch [990/1000], Loss: 5.9239\n",
      "Epoch [1000/1000], Loss: 7.8176\n"
     ]
    }
   ],
   "source": [
    "# 학습\n",
    "num_epochs = 1000\n",
    "for epoch in range(num_epochs):\n",
    "    running_loss = 0.0\n",
    "    for i, (inputs, targets) in enumerate(trainDL):\n",
    "        optimizer.zero_grad()\n",
    "        outputs = model(inputs)\n",
    "        loss = criterion(outputs, targets.unsqueeze(1))\n",
    "        loss.backward()\n",
    "        optimizer.step()\n",
    "        running_loss += loss.item()\n",
    "    if (epoch+1) % 10 == 0:\n",
    "        print(f'Epoch [{epoch+1}/{num_epochs}], Loss: {running_loss/len(trainDL):.4f}')"
   ]
  },
  {
   "cell_type": "code",
   "execution_count": 11,
   "metadata": {},
   "outputs": [
    {
     "name": "stdout",
     "output_type": "stream",
     "text": [
      "Test Loss: 15.3693\n"
     ]
    }
   ],
   "source": [
    "# 테스트 세트 평가\n",
    "model.eval()\n",
    "with torch.no_grad():\n",
    "    test_loss = 0.0\n",
    "    for inputs, targets in testDL:\n",
    "        outputs = model(inputs)\n",
    "        loss = criterion(outputs, targets.unsqueeze(1))\n",
    "        test_loss += loss.item()\n",
    "    print(f'Test Loss: {test_loss/len(testDL):.4f}')"
   ]
  },
  {
   "cell_type": "code",
   "execution_count": null,
   "metadata": {},
   "outputs": [],
   "source": []
  }
 ],
 "metadata": {
  "kernelspec": {
   "display_name": "Text_017_220_38",
   "language": "python",
   "name": "python3"
  },
  "language_info": {
   "codemirror_mode": {
    "name": "ipython",
    "version": 3
   },
   "file_extension": ".py",
   "mimetype": "text/x-python",
   "name": "python",
   "nbconvert_exporter": "python",
   "pygments_lexer": "ipython3",
   "version": "3.8.19"
  }
 },
 "nbformat": 4,
 "nbformat_minor": 2
}
