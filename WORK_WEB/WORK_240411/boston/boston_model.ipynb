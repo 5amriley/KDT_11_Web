{
 "cells": [
  {
   "cell_type": "markdown",
   "metadata": {},
   "source": [
    "### [Pytorch 기반 회귀 모델 구현]\n",
    "- Layer : Full-Connected Layer (linear)\n",
    "- 손실함수 : MSELoss, MAELoss, ...\n",
    "- optimizer : Adam, NAdam, RAdam, ..."
   ]
  },
  {
   "cell_type": "markdown",
   "metadata": {},
   "source": [
    "[1] 데이터 준비"
   ]
  },
  {
   "cell_type": "code",
   "execution_count": 1,
   "metadata": {},
   "outputs": [],
   "source": [
    "import pandas as pd"
   ]
  },
  {
   "cell_type": "code",
   "execution_count": 2,
   "metadata": {},
   "outputs": [
    {
     "data": {
      "text/html": [
       "<div>\n",
       "<style scoped>\n",
       "    .dataframe tbody tr th:only-of-type {\n",
       "        vertical-align: middle;\n",
       "    }\n",
       "\n",
       "    .dataframe tbody tr th {\n",
       "        vertical-align: top;\n",
       "    }\n",
       "\n",
       "    .dataframe thead th {\n",
       "        text-align: right;\n",
       "    }\n",
       "</style>\n",
       "<table border=\"1\" class=\"dataframe\">\n",
       "  <thead>\n",
       "    <tr style=\"text-align: right;\">\n",
       "      <th></th>\n",
       "      <th>crim</th>\n",
       "      <th>zn</th>\n",
       "      <th>indus</th>\n",
       "      <th>chas</th>\n",
       "      <th>nox</th>\n",
       "      <th>rm</th>\n",
       "      <th>age</th>\n",
       "      <th>dis</th>\n",
       "      <th>rad</th>\n",
       "      <th>tax</th>\n",
       "      <th>ptratio</th>\n",
       "      <th>b</th>\n",
       "      <th>lstat</th>\n",
       "      <th>medv</th>\n",
       "    </tr>\n",
       "  </thead>\n",
       "  <tbody>\n",
       "    <tr>\n",
       "      <th>0</th>\n",
       "      <td>0.00632</td>\n",
       "      <td>18.0</td>\n",
       "      <td>2.31</td>\n",
       "      <td>0</td>\n",
       "      <td>0.538</td>\n",
       "      <td>6.575</td>\n",
       "      <td>65.2</td>\n",
       "      <td>4.0900</td>\n",
       "      <td>1</td>\n",
       "      <td>296</td>\n",
       "      <td>15.3</td>\n",
       "      <td>396.90</td>\n",
       "      <td>4.98</td>\n",
       "      <td>24.0</td>\n",
       "    </tr>\n",
       "    <tr>\n",
       "      <th>1</th>\n",
       "      <td>0.02731</td>\n",
       "      <td>0.0</td>\n",
       "      <td>7.07</td>\n",
       "      <td>0</td>\n",
       "      <td>0.469</td>\n",
       "      <td>6.421</td>\n",
       "      <td>78.9</td>\n",
       "      <td>4.9671</td>\n",
       "      <td>2</td>\n",
       "      <td>242</td>\n",
       "      <td>17.8</td>\n",
       "      <td>396.90</td>\n",
       "      <td>9.14</td>\n",
       "      <td>21.6</td>\n",
       "    </tr>\n",
       "    <tr>\n",
       "      <th>2</th>\n",
       "      <td>0.02729</td>\n",
       "      <td>0.0</td>\n",
       "      <td>7.07</td>\n",
       "      <td>0</td>\n",
       "      <td>0.469</td>\n",
       "      <td>7.185</td>\n",
       "      <td>61.1</td>\n",
       "      <td>4.9671</td>\n",
       "      <td>2</td>\n",
       "      <td>242</td>\n",
       "      <td>17.8</td>\n",
       "      <td>392.83</td>\n",
       "      <td>4.03</td>\n",
       "      <td>34.7</td>\n",
       "    </tr>\n",
       "    <tr>\n",
       "      <th>3</th>\n",
       "      <td>0.03237</td>\n",
       "      <td>0.0</td>\n",
       "      <td>2.18</td>\n",
       "      <td>0</td>\n",
       "      <td>0.458</td>\n",
       "      <td>6.998</td>\n",
       "      <td>45.8</td>\n",
       "      <td>6.0622</td>\n",
       "      <td>3</td>\n",
       "      <td>222</td>\n",
       "      <td>18.7</td>\n",
       "      <td>394.63</td>\n",
       "      <td>2.94</td>\n",
       "      <td>33.4</td>\n",
       "    </tr>\n",
       "    <tr>\n",
       "      <th>4</th>\n",
       "      <td>0.06905</td>\n",
       "      <td>0.0</td>\n",
       "      <td>2.18</td>\n",
       "      <td>0</td>\n",
       "      <td>0.458</td>\n",
       "      <td>7.147</td>\n",
       "      <td>54.2</td>\n",
       "      <td>6.0622</td>\n",
       "      <td>3</td>\n",
       "      <td>222</td>\n",
       "      <td>18.7</td>\n",
       "      <td>396.90</td>\n",
       "      <td>5.33</td>\n",
       "      <td>36.2</td>\n",
       "    </tr>\n",
       "  </tbody>\n",
       "</table>\n",
       "</div>"
      ],
      "text/plain": [
       "      crim    zn  indus  chas    nox     rm   age     dis  rad  tax  ptratio  \\\n",
       "0  0.00632  18.0   2.31     0  0.538  6.575  65.2  4.0900    1  296     15.3   \n",
       "1  0.02731   0.0   7.07     0  0.469  6.421  78.9  4.9671    2  242     17.8   \n",
       "2  0.02729   0.0   7.07     0  0.469  7.185  61.1  4.9671    2  242     17.8   \n",
       "3  0.03237   0.0   2.18     0  0.458  6.998  45.8  6.0622    3  222     18.7   \n",
       "4  0.06905   0.0   2.18     0  0.458  7.147  54.2  6.0622    3  222     18.7   \n",
       "\n",
       "        b  lstat  medv  \n",
       "0  396.90   4.98  24.0  \n",
       "1  396.90   9.14  21.6  \n",
       "2  392.83   4.03  34.7  \n",
       "3  394.63   2.94  33.4  \n",
       "4  396.90   5.33  36.2  "
      ]
     },
     "execution_count": 2,
     "metadata": {},
     "output_type": "execute_result"
    }
   ],
   "source": [
    "filename = './BostonHousing.csv'\n",
    "\n",
    "bostonDF = pd.read_csv(filename, encoding='utf-8')\n",
    "bostonDF.head(5)"
   ]
  },
  {
   "cell_type": "code",
   "execution_count": 3,
   "metadata": {},
   "outputs": [
    {
     "name": "stdout",
     "output_type": "stream",
     "text": [
      "<class 'pandas.core.frame.DataFrame'>\n",
      "RangeIndex: 506 entries, 0 to 505\n",
      "Data columns (total 14 columns):\n",
      " #   Column   Non-Null Count  Dtype  \n",
      "---  ------   --------------  -----  \n",
      " 0   crim     506 non-null    float64\n",
      " 1   zn       506 non-null    float64\n",
      " 2   indus    506 non-null    float64\n",
      " 3   chas     506 non-null    int64  \n",
      " 4   nox      506 non-null    float64\n",
      " 5   rm       506 non-null    float64\n",
      " 6   age      506 non-null    float64\n",
      " 7   dis      506 non-null    float64\n",
      " 8   rad      506 non-null    int64  \n",
      " 9   tax      506 non-null    int64  \n",
      " 10  ptratio  506 non-null    float64\n",
      " 11  b        506 non-null    float64\n",
      " 12  lstat    506 non-null    float64\n",
      " 13  medv     506 non-null    float64\n",
      "dtypes: float64(11), int64(3)\n",
      "memory usage: 55.5 KB\n"
     ]
    }
   ],
   "source": [
    "bostonDF.info()"
   ]
  },
  {
   "cell_type": "code",
   "execution_count": 4,
   "metadata": {},
   "outputs": [
    {
     "data": {
      "text/plain": [
       "0"
      ]
     },
     "execution_count": 4,
     "metadata": {},
     "output_type": "execute_result"
    }
   ],
   "source": [
    "# 중복치 없음\n",
    "bostonDF.duplicated().sum()"
   ]
  },
  {
   "cell_type": "code",
   "execution_count": 5,
   "metadata": {},
   "outputs": [],
   "source": [
    "# 피처, 타겟 분리\n",
    "featureDF = bostonDF[bostonDF.columns[:-1]]\n",
    "targetSR = bostonDF[bostonDF.columns[-1]]"
   ]
  },
  {
   "cell_type": "markdown",
   "metadata": {},
   "source": [
    "[2] 사용자 데이터셋 클래스 정의"
   ]
  },
  {
   "cell_type": "code",
   "execution_count": 6,
   "metadata": {},
   "outputs": [
    {
     "name": "stdout",
     "output_type": "stream",
     "text": [
      "(455, 13) (455,) (51, 13) (51,)\n"
     ]
    }
   ],
   "source": [
    "from sklearn.model_selection import train_test_split\n",
    "\n",
    "### 훈련용, 테스트용 데이터 분할\n",
    "x_train, x_test, y_train, y_test = train_test_split(featureDF, targetSR, test_size=0.1, random_state=42)\n",
    "\n",
    "print(x_train.shape, y_train.shape, x_test.shape, y_test.shape)"
   ]
  },
  {
   "cell_type": "code",
   "execution_count": 7,
   "metadata": {},
   "outputs": [],
   "source": [
    "import torch\n",
    "import torch.nn as nn\n",
    "from torch.utils.data import Dataset, DataLoader"
   ]
  },
  {
   "cell_type": "code",
   "execution_count": 8,
   "metadata": {},
   "outputs": [],
   "source": [
    "import numpy as np\n",
    "\n",
    "### 클래스 정의\n",
    "class BostonDS(Dataset):\n",
    "\n",
    "    # 데이터 전처리 => 정규화, 텐서화\n",
    "    def __init__(self, feature, target):\n",
    "        super().__init__()\n",
    "        self.feature = torch.FloatTensor(feature.values)\n",
    "        self.target = torch.FloatTensor(target.values)\n",
    "        self.length = self.feature.shape[0]\n",
    "        # self.normalization()\n",
    "\n",
    "    def __len__(self):\n",
    "        return self.length\n",
    "\n",
    "    def __getitem__(self, index):\n",
    "        return self.feature[index], self.target[index]\n",
    "    \n",
    "    # 데이터 정규화 기능함수\n",
    "    def normalization(self):\n",
    "        # self.feature.max(dim=1)\n",
    "        return self.feature / np.max(self.feature)"
   ]
  },
  {
   "cell_type": "code",
   "execution_count": 9,
   "metadata": {},
   "outputs": [],
   "source": [
    "# 데이터셋 생성\n",
    "trainDS = BostonDS(x_train, y_train)\n",
    "testDS = BostonDS(x_test, y_test)"
   ]
  },
  {
   "cell_type": "code",
   "execution_count": 10,
   "metadata": {},
   "outputs": [],
   "source": [
    "# DataLoader 생성\n",
    "BATCH_SIZE = 32\n",
    "\n",
    "trainDL = DataLoader(trainDS, batch_size=BATCH_SIZE, shuffle=True)\n",
    "testDL = DataLoader(testDS, batch_size=BATCH_SIZE, shuffle=False)"
   ]
  },
  {
   "cell_type": "code",
   "execution_count": 11,
   "metadata": {},
   "outputs": [
    {
     "name": "stdout",
     "output_type": "stream",
     "text": [
      "torch.Size([32, 13]) torch.Size([32])\n",
      "torch.Size([32, 13]) torch.Size([32])\n",
      "torch.Size([32, 13]) torch.Size([32])\n",
      "torch.Size([32, 13]) torch.Size([32])\n",
      "torch.Size([32, 13]) torch.Size([32])\n",
      "torch.Size([32, 13]) torch.Size([32])\n",
      "torch.Size([32, 13]) torch.Size([32])\n",
      "torch.Size([32, 13]) torch.Size([32])\n",
      "torch.Size([32, 13]) torch.Size([32])\n",
      "torch.Size([32, 13]) torch.Size([32])\n",
      "torch.Size([32, 13]) torch.Size([32])\n",
      "torch.Size([32, 13]) torch.Size([32])\n",
      "torch.Size([32, 13]) torch.Size([32])\n",
      "torch.Size([32, 13]) torch.Size([32])\n",
      "torch.Size([7, 13]) torch.Size([7])\n"
     ]
    }
   ],
   "source": [
    "for feature, target in trainDL:\n",
    "    print(feature.shape, target.shape)"
   ]
  },
  {
   "cell_type": "markdown",
   "metadata": {},
   "source": [
    "[3] 모델 생성"
   ]
  },
  {
   "cell_type": "code",
   "execution_count": 12,
   "metadata": {},
   "outputs": [],
   "source": [
    "### 간단한 회귀 모델 정의\n",
    "class BostonRegModel(nn.Module):\n",
    "\n",
    "    def __init__(self, in_):\n",
    "        super().__init__()\n",
    "        self.linear1 = nn.Linear(in_, 10)\n",
    "        self.linear2 = nn.Linear(10, 10)\n",
    "        self.linear3 = nn.Linear(10, 1)\n",
    "        self.relu = nn.ReLU()\n",
    "\n",
    "    def forward(self, x):\n",
    "        x = self.linear1(x)\n",
    "        x = self.relu(x)\n",
    "        x = self.linear2(x)\n",
    "        x = self.relu(x)\n",
    "        x = self.linear3(x)\n",
    "        return x"
   ]
  },
  {
   "cell_type": "code",
   "execution_count": 13,
   "metadata": {},
   "outputs": [],
   "source": [
    "### 성능 좋은 회귀 모델\n",
    "class BostonHousingRegressor(nn.Module):\n",
    "    def __init__(self, in_):\n",
    "        super().__init__()\n",
    "        self.fc1 = nn.Linear(in_, 64)\n",
    "        self.fc2 = nn.Linear(64, 32)\n",
    "        self.fc3 = nn.Linear(32, 1)\n",
    "        self.relu = nn.ReLU()\n",
    "\n",
    "    def forward(self, x):\n",
    "        x = self.fc1(x)\n",
    "        x = self.relu(x)\n",
    "        x = self.fc2(x)\n",
    "        x = self.relu(x)\n",
    "        x = self.fc3(x)\n",
    "        return x"
   ]
  },
  {
   "cell_type": "code",
   "execution_count": 14,
   "metadata": {},
   "outputs": [],
   "source": [
    "import torch.optim as optim\n",
    "\n",
    "device = 'cuda' if torch.cuda.is_available() else 'cpu'\n",
    "n_features = len(featureDF.columns)\n",
    "\n",
    "MODEL = BostonHousingRegressor(n_features).to(device)\n",
    "# MODEL = BostonRegModel(n_features).to(device)\n",
    "# MODEL = nn.Sequential(\n",
    "#     nn.Linear(13, 64),\n",
    "#     nn.ReLU(),\n",
    "#     nn.Linear(64, 32),\n",
    "#     nn.ReLU(),\n",
    "#     nn.Linear(32, 1)\n",
    "# ).to(device)\n",
    "\n",
    "CRITERION = nn.MSELoss().to(device)\n",
    "OPTIMIZER = optim.Adam(MODEL.parameters(), lr=0.001)    # SGD 쓰면 ㄷㄷ..."
   ]
  },
  {
   "cell_type": "code",
   "execution_count": 15,
   "metadata": {},
   "outputs": [],
   "source": [
    "# 학습\n",
    "from sklearn.metrics import r2_score\n",
    "\n",
    "def training(epoch, dataloader, model, criterion, optimizer):\n",
    "\n",
    "    loss_list, r2_list = [], []\n",
    "\n",
    "    model.train()\n",
    "\n",
    "    for idx, (feature, target) in enumerate(dataloader):\n",
    "        # 순전파\n",
    "        output = model(feature)\n",
    "        loss = criterion(output, target.unsqueeze(1))   # 2차원으로 통일\n",
    "        loss_list.append(loss.item())                   # loss가 단일 요소라서, item() 적용 가능\n",
    "        r2 = r2_score(target, output.detach().squeeze())\n",
    "        r2_list.append(r2)\n",
    "\n",
    "        # 역전파 및 가중치 업데이트\n",
    "        optimizer.zero_grad()\n",
    "        loss.backward()\n",
    "        optimizer.step()\n",
    "\n",
    "    # print(f'[Epoch {epoch: 2d}] loss : {np.mean(loss_list):.4f}')\n",
    "    return np.mean(loss_list), np.mean(r2_list)"
   ]
  },
  {
   "cell_type": "code",
   "execution_count": 16,
   "metadata": {},
   "outputs": [
    {
     "name": "stdout",
     "output_type": "stream",
     "text": [
      "Epoch [ 10/1000], Loss: 66.8223 r2: 0.2512\n",
      "Epoch [ 20/1000], Loss: 60.5694 r2: 0.3030\n",
      "Epoch [ 30/1000], Loss: 47.7622 r2: 0.3359\n",
      "Epoch [ 40/1000], Loss: 45.5976 r2: 0.4249\n",
      "Epoch [ 50/1000], Loss: 36.2664 r2: 0.5035\n",
      "Epoch [ 60/1000], Loss: 34.7861 r2: 0.6006\n",
      "Epoch [ 70/1000], Loss: 41.5017 r2: 0.4869\n",
      "Epoch [ 80/1000], Loss: 27.7384 r2: 0.6625\n",
      "Epoch [ 90/1000], Loss: 29.2490 r2: 0.6468\n",
      "Epoch [100/1000], Loss: 25.6401 r2: 0.6221\n",
      "Epoch [110/1000], Loss: 21.7118 r2: 0.7115\n",
      "Epoch [120/1000], Loss: 20.7030 r2: 0.7307\n",
      "Epoch [130/1000], Loss: 27.5480 r2: 0.6492\n",
      "Epoch [140/1000], Loss: 19.7465 r2: 0.7306\n",
      "Epoch [150/1000], Loss: 17.3558 r2: 0.7806\n",
      "Epoch [160/1000], Loss: 16.5687 r2: 0.8018\n",
      "Epoch [170/1000], Loss: 18.0297 r2: 0.7889\n",
      "Epoch [180/1000], Loss: 17.8228 r2: 0.7541\n",
      "Epoch [190/1000], Loss: 16.8695 r2: 0.8017\n",
      "Epoch [200/1000], Loss: 15.1431 r2: 0.7550\n",
      "Epoch [210/1000], Loss: 16.7925 r2: 0.7903\n",
      "Epoch [220/1000], Loss: 17.6540 r2: 0.7809\n",
      "Epoch [230/1000], Loss: 16.5039 r2: 0.7627\n",
      "Epoch [240/1000], Loss: 16.7161 r2: 0.7581\n",
      "Epoch [250/1000], Loss: 14.7964 r2: 0.8252\n",
      "Epoch [260/1000], Loss: 17.2856 r2: 0.6719\n",
      "Epoch [270/1000], Loss: 16.1195 r2: 0.7738\n",
      "Epoch [280/1000], Loss: 14.8528 r2: 0.8180\n",
      "Epoch [290/1000], Loss: 13.8214 r2: 0.8212\n",
      "Epoch [300/1000], Loss: 16.1717 r2: 0.7736\n",
      "Epoch [310/1000], Loss: 13.9434 r2: 0.8136\n",
      "Epoch [320/1000], Loss: 13.6795 r2: 0.8278\n",
      "Epoch [330/1000], Loss: 14.9663 r2: 0.7844\n",
      "Epoch [340/1000], Loss: 12.2853 r2: 0.8501\n",
      "Epoch [350/1000], Loss: 12.8908 r2: 0.8382\n",
      "Epoch [360/1000], Loss: 14.3355 r2: 0.8244\n",
      "Epoch [370/1000], Loss: 13.5993 r2: 0.8176\n",
      "Epoch [380/1000], Loss: 14.3152 r2: 0.8184\n",
      "Epoch [390/1000], Loss: 12.6591 r2: 0.8401\n",
      "Epoch [400/1000], Loss: 16.1772 r2: 0.8216\n",
      "Epoch [410/1000], Loss: 12.3890 r2: 0.8311\n",
      "Epoch [420/1000], Loss: 14.3180 r2: 0.8054\n",
      "Epoch [430/1000], Loss: 13.3894 r2: 0.7754\n",
      "Epoch [440/1000], Loss: 13.5687 r2: 0.8176\n",
      "Epoch [450/1000], Loss: 12.0154 r2: 0.8460\n",
      "Epoch [460/1000], Loss: 11.8298 r2: 0.8520\n",
      "Epoch [470/1000], Loss: 11.9622 r2: 0.8019\n",
      "Epoch [480/1000], Loss: 13.5278 r2: 0.8214\n",
      "Epoch [490/1000], Loss: 11.2083 r2: 0.8551\n",
      "Epoch [500/1000], Loss: 11.4437 r2: 0.8587\n",
      "Epoch [510/1000], Loss: 11.2656 r2: 0.8645\n",
      "Epoch [520/1000], Loss: 11.3288 r2: 0.8149\n",
      "Epoch [530/1000], Loss: 11.6461 r2: 0.8534\n",
      "Epoch [540/1000], Loss: 10.5039 r2: 0.8628\n",
      "Epoch [550/1000], Loss: 11.9307 r2: 0.8528\n",
      "Epoch [560/1000], Loss: 11.1835 r2: 0.8731\n",
      "Epoch [570/1000], Loss: 12.4809 r2: 0.8515\n",
      "Epoch [580/1000], Loss: 11.7859 r2: 0.8552\n",
      "Epoch [590/1000], Loss: 10.3230 r2: 0.8696\n",
      "Epoch [600/1000], Loss: 12.2928 r2: 0.8507\n",
      "Epoch [610/1000], Loss: 12.8547 r2: 0.8388\n",
      "Epoch [620/1000], Loss: 10.0539 r2: 0.8722\n",
      "Epoch [630/1000], Loss: 10.5947 r2: 0.8479\n",
      "Epoch [640/1000], Loss: 9.6699 r2: 0.8744\n",
      "Epoch [650/1000], Loss: 9.8645 r2: 0.8751\n",
      "Epoch [660/1000], Loss: 10.1913 r2: 0.8672\n",
      "Epoch [670/1000], Loss: 8.9955 r2: 0.8917\n",
      "Epoch [680/1000], Loss: 14.3179 r2: 0.8079\n",
      "Epoch [690/1000], Loss: 9.0923 r2: 0.8872\n",
      "Epoch [700/1000], Loss: 9.7334 r2: 0.8750\n",
      "Epoch [710/1000], Loss: 10.0701 r2: 0.8107\n",
      "Epoch [720/1000], Loss: 9.3990 r2: 0.8865\n",
      "Epoch [730/1000], Loss: 9.7081 r2: 0.8713\n",
      "Epoch [740/1000], Loss: 10.2882 r2: 0.8580\n",
      "Epoch [750/1000], Loss: 8.4752 r2: 0.8796\n",
      "Epoch [760/1000], Loss: 11.8763 r2: 0.8536\n",
      "Epoch [770/1000], Loss: 8.5180 r2: 0.8912\n",
      "Epoch [780/1000], Loss: 8.1240 r2: 0.9018\n",
      "Epoch [790/1000], Loss: 8.9354 r2: 0.8876\n",
      "Epoch [800/1000], Loss: 8.7548 r2: 0.8910\n",
      "Epoch [810/1000], Loss: 9.1924 r2: 0.8854\n",
      "Epoch [820/1000], Loss: 7.1208 r2: 0.9076\n",
      "Epoch [830/1000], Loss: 7.2713 r2: 0.9074\n",
      "Epoch [840/1000], Loss: 9.5855 r2: 0.8992\n",
      "Epoch [850/1000], Loss: 8.5451 r2: 0.8929\n",
      "Epoch [860/1000], Loss: 8.8841 r2: 0.8811\n",
      "Epoch [870/1000], Loss: 9.5383 r2: 0.8763\n",
      "Epoch [880/1000], Loss: 7.3652 r2: 0.9002\n",
      "Epoch [890/1000], Loss: 6.9437 r2: 0.9120\n",
      "Epoch [900/1000], Loss: 9.6791 r2: 0.8374\n",
      "Epoch [910/1000], Loss: 7.1277 r2: 0.9163\n",
      "Epoch [920/1000], Loss: 7.7266 r2: 0.9075\n",
      "Epoch [930/1000], Loss: 7.7705 r2: 0.8982\n",
      "Epoch [940/1000], Loss: 8.0007 r2: 0.8941\n",
      "Epoch [950/1000], Loss: 6.4166 r2: 0.9177\n",
      "Epoch [960/1000], Loss: 6.8263 r2: 0.9144\n",
      "Epoch [970/1000], Loss: 6.8022 r2: 0.8860\n",
      "Epoch [980/1000], Loss: 6.2819 r2: 0.9138\n",
      "Epoch [990/1000], Loss: 6.2308 r2: 0.9191\n",
      "Epoch [1000/1000], Loss: 8.2132 r2: 0.9094\n"
     ]
    }
   ],
   "source": [
    "EPOCHS = 1000\n",
    "loss_list, r2_list = [], []\n",
    "\n",
    "for epoch in range(EPOCHS):\n",
    "    loss, r2 = training(epoch, trainDL, MODEL, CRITERION, OPTIMIZER)\n",
    "    loss_list.append(loss)\n",
    "    r2_list.append(r2)\n",
    "    if (epoch+1) % 10 == 0:\n",
    "        print(f'Epoch [{epoch+1:3d}/{EPOCHS}], Loss: {loss_list[-1]:.4f} r2: {r2_list[-1]:.4f}')"
   ]
  },
  {
   "cell_type": "code",
   "execution_count": 17,
   "metadata": {},
   "outputs": [
    {
     "data": {
      "image/png": "[encoded data removed]",
      "text/plain": [
       "<Figure size 640x480 with 2 Axes>"
      ]
     },
     "metadata": {},
     "output_type": "display_data"
    }
   ],
   "source": [
    "import matplotlib.pyplot as plt\n",
    "\n",
    "fig, ax1 = plt.subplots()\n",
    "\n",
    "# 첫 번째 선 그래프 그리기 (왼쪽 y축)\n",
    "ax1.plot(loss_list, label='train_loss', color='tab:blue')\n",
    "\n",
    "# 두 번째 y축 생성 및 두 번째 그래프 그리기\n",
    "ax2 = ax1.twinx()\n",
    "ax2.plot(r2_list, label='train_r2', color='tab:green')\n",
    "\n",
    "lines, labels = ax1.get_legend_handles_labels()\n",
    "lines2, labels2 = ax2.get_legend_handles_labels()\n",
    "ax2.legend(lines + lines2, labels + labels2, loc='center right')\n",
    "ax1.set_xlabel('Epoch')\n",
    "ax1.set_ylabel('loss')\n",
    "ax2.set_ylabel('r2')\n",
    "\n",
    "plt.show()"
   ]
  },
  {
   "cell_type": "code",
   "execution_count": 18,
   "metadata": {},
   "outputs": [],
   "source": [
    "# 모델 저장\n",
    "modelname = './boston_reg_model.pth'\n",
    "torch.save(MODEL, modelname)"
   ]
  },
  {
   "cell_type": "code",
   "execution_count": 19,
   "metadata": {},
   "outputs": [],
   "source": [
    "# 모델 불러오기\n",
    "MODEL = torch.load(modelname)"
   ]
  },
  {
   "cell_type": "code",
   "execution_count": null,
   "metadata": {},
   "outputs": [],
   "source": []
  }
 ],
 "metadata": {
  "kernelspec": {
   "display_name": "Text_017_220_38",
   "language": "python",
   "name": "python3"
  },
  "language_info": {
   "codemirror_mode": {
    "name": "ipython",
    "version": 3
   },
   "file_extension": ".py",
   "mimetype": "text/x-python",
   "name": "python",
   "nbconvert_exporter": "python",
   "pygments_lexer": "ipython3",
   "version": "3.8.19"
  }
 },
 "nbformat": 4,
 "nbformat_minor": 2
}
